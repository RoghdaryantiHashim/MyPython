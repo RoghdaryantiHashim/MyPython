{
 "cells": [
  {
   "cell_type": "code",
   "execution_count": null,
   "id": "462893c5-7df2-41c6-b586-04f87526843b",
   "metadata": {},
   "outputs": [],
   "source": [
    "# My First Hello World in Python"
   ]
  },
  {
   "cell_type": "code",
   "execution_count": 2,
   "id": "1713de1e-ccf3-40b4-af90-690818d16b71",
   "metadata": {},
   "outputs": [
    {
     "name": "stdout",
     "output_type": "stream",
     "text": [
      "SAYA BARU BELAJAR\n"
     ]
    }
   ],
   "source": [
    "print(\"SAYA BARU BELAJAR\")"
   ]
  },
  {
   "cell_type": "code",
   "execution_count": 3,
   "id": "c00a55d3-dcde-453d-97a3-a6b391c8b9f8",
   "metadata": {
    "scrolled": true
   },
   "outputs": [
    {
     "name": "stdout",
     "output_type": "stream",
     "text": [
      "HELLO WORLD!\n"
     ]
    }
   ],
   "source": [
    "print(\"HELLO WORLD!\")"
   ]
  },
  {
   "cell_type": "code",
   "execution_count": 10,
   "id": "9febdecf-33f3-40d0-921c-ac3f0a36e0db",
   "metadata": {},
   "outputs": [
    {
     "name": "stdout",
     "output_type": "stream",
     "text": [
      "B40\n"
     ]
    }
   ],
   "source": [
    "GAJI = 5000\n",
    "\n",
    "if GAJI <= 5000:\n",
    "    print(\"B40\")\n",
    "else:\n",
    "    print(\"M40 & T20\")\n"
   ]
  },
  {
   "cell_type": "code",
   "execution_count": 11,
   "id": "9f23710b-0245-4028-b9bd-66a4c1871bea",
   "metadata": {},
   "outputs": [
    {
     "data": {
      "text/plain": [
       "'\\nselamat berkenalan\\n'"
      ]
     },
     "execution_count": 11,
     "metadata": {},
     "output_type": "execute_result"
    }
   ],
   "source": [
    "\"\"\"\n",
    "selamat berkenalan\n",
    "\"\"\""
   ]
  },
  {
   "cell_type": "code",
   "execution_count": 14,
   "id": "4f6d2191-7d1a-4e87-a028-055b41821674",
   "metadata": {},
   "outputs": [
    {
     "name": "stdout",
     "output_type": "stream",
     "text": [
      "Umur saya: 51\n",
      "Nama saya: yanti\n",
      "Berat saya: 75.5\n"
     ]
    }
   ],
   "source": [
    "#int \n",
    "umur=51\n",
    "\n",
    "#string\n",
    "name=\"yanti\"\n",
    "\n",
    "#float\n",
    "berat=75.5\n",
    "\n",
    "print(\"Umur saya:\",umur)\n",
    "print(\"Nama saya:\",name)\n",
    "print(\"Berat saya:\",berat)"
   ]
  },
  {
   "cell_type": "code",
   "execution_count": null,
   "id": "a50dfe52-7fc7-4c68-ac00-dc22c629be2a",
   "metadata": {},
   "outputs": [],
   "source": []
  },
  {
   "cell_type": "code",
   "execution_count": 16,
   "id": "c2f483d2-2510-4bcf-bfbd-4e1ae331d9a2",
   "metadata": {},
   "outputs": [
    {
     "name": "stdin",
     "output_type": "stream",
     "text": [
      "HOW OLD ARE YOU? 51\n",
      "WHAT IS YOUR HEIGHT (IN CM) 155\n",
      "WHAT IS YOUR WEIGHT (IN KG) 75\n"
     ]
    },
    {
     "name": "stdout",
     "output_type": "stream",
     "text": [
      "SO, YOU ARE 51 YEARS OLD, 155 CM HEIGHT AND 75 KG WEIGHT\n"
     ]
    }
   ],
   "source": [
    "age=input(\"HOW OLD ARE YOU?\")\n",
    "height=input(\"WHAT IS YOUR HEIGHT (IN CM)\")\n",
    "weight=input(\"WHAT IS YOUR WEIGHT (IN KG)\")\n",
    "\n",
    "print(f\"SO, YOU ARE {age} YEARS OLD, {height} CM HEIGHT AND {weight} KG WEIGHT\")"
   ]
  },
  {
   "cell_type": "code",
   "execution_count": 17,
   "id": "d5b38a09-daef-4b44-b19d-049438f0c3d1",
   "metadata": {},
   "outputs": [
    {
     "name": "stdin",
     "output_type": "stream",
     "text": [
      "HOW OLD ARE YOU? 51\n",
      "WHAT IS YOUR HEIGHT (IN CM) 155\n",
      "WHAT IS YOUR WEIGHT (IN KG) 75\n"
     ]
    },
    {
     "name": "stdout",
     "output_type": "stream",
     "text": [
      "SO YOU'RE 51 YEARS OLD, 155 CM HEIGHT AND 75 KG WEIGHT\n"
     ]
    }
   ],
   "source": [
    "age=input(\"HOW OLD ARE YOU?\")\n",
    "height=input(\"WHAT IS YOUR HEIGHT (IN CM)\")\n",
    "weight=input(\"WHAT IS YOUR WEIGHT (IN KG)\")\n",
    "print(\"SO YOU'RE {} YEARS OLD, {} CM HEIGHT AND {} KG WEIGHT\".format(age,height,weight))"
   ]
  },
  {
   "cell_type": "code",
   "execution_count": null,
   "id": "078ac385-0c88-483f-99e8-3f829a4e9be1",
   "metadata": {},
   "outputs": [],
   "source": []
  },
  {
   "cell_type": "code",
   "execution_count": null,
   "id": "69bf0a6c-f0ce-4506-ae04-262de09e6cbb",
   "metadata": {},
   "outputs": [],
   "source": [
    "#lISTS"
   ]
  },
  {
   "cell_type": "code",
   "execution_count": null,
   "id": "9aba0543-603a-48d0-827f-ceb45dbab284",
   "metadata": {},
   "outputs": [],
   "source": [
    "fruit=[\"apple\",\"banana\",\"cherry\"]"
   ]
  },
  {
   "cell_type": "code",
   "execution_count": 18,
   "id": "7cf73b04-b881-46e3-97a0-d1ca8fb2a20f",
   "metadata": {},
   "outputs": [
    {
     "ename": "NameError",
     "evalue": "name 'fruit' is not defined",
     "output_type": "error",
     "traceback": [
      "\u001b[0;31m---------------------------------------------------------------------------\u001b[0m",
      "\u001b[0;31mNameError\u001b[0m                                 Traceback (most recent call last)",
      "Cell \u001b[0;32mIn[18], line 1\u001b[0m\n\u001b[0;32m----> 1\u001b[0m \u001b[38;5;28mprint\u001b[39m (\u001b[43mfruit\u001b[49m[\u001b[38;5;241m0\u001b[39m])\n",
      "\u001b[0;31mNameError\u001b[0m: name 'fruit' is not defined"
     ]
    }
   ],
   "source": [
    "print (fruit[0])"
   ]
  },
  {
   "cell_type": "code",
   "execution_count": null,
   "id": "c92588b2-2584-4a23-a55b-8b6c0be52181",
   "metadata": {},
   "outputs": [],
   "source": []
  }
 ],
 "metadata": {
  "kernelspec": {
   "display_name": "Python 3 (ipykernel)",
   "language": "python",
   "name": "python3"
  },
  "language_info": {
   "codemirror_mode": {
    "name": "ipython",
    "version": 3
   },
   "file_extension": ".py",
   "mimetype": "text/x-python",
   "name": "python",
   "nbconvert_exporter": "python",
   "pygments_lexer": "ipython3",
   "version": "3.10.12"
  }
 },
 "nbformat": 4,
 "nbformat_minor": 5
}
