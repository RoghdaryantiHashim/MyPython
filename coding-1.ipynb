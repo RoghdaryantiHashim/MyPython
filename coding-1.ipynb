{
 "cells": [
  {
   "cell_type": "code",
   "execution_count": 9,
   "id": "7f5627b7-7cbe-460e-bd38-40d6ea630726",
   "metadata": {},
   "outputs": [
    {
     "name": "stdout",
     "output_type": "stream",
     "text": [
      "apple\n",
      "banana\n",
      "grape\n",
      "strawberry\n"
     ]
    }
   ],
   "source": [
    "fruit=[\"apple\",\"banana\",\"grape\"]\n",
    "print (fruit[0])\n",
    "print (fruit[1])\n",
    "print (fruit[2])\n",
    "\n",
    "fruit[1]=\"strawberry\"\n",
    "print (fruit[1])\n"
   ]
  },
  {
   "cell_type": "code",
   "execution_count": null,
   "id": "87e1f6fb-c463-46fd-83e4-6d1df40064d1",
   "metadata": {},
   "outputs": [],
   "source": []
  },
  {
   "cell_type": "code",
   "execution_count": 15,
   "id": "7e162257-541f-4a4b-a8e6-62b983dc686c",
   "metadata": {},
   "outputs": [
    {
     "name": "stdout",
     "output_type": "stream",
     "text": [
      "mangga\n",
      "durian\n",
      "manggis\n"
     ]
    }
   ],
   "source": [
    "fruits=[\"mangga\",\"durian\",\"manggis\"]\n",
    "for fruit in fruits:\n",
    "    print (fruit)\n",
    "\n"
   ]
  },
  {
   "cell_type": "code",
   "execution_count": null,
   "id": "67ce6c84-9692-422b-bd6e-f25d9333e928",
   "metadata": {},
   "outputs": [],
   "source": []
  },
  {
   "cell_type": "code",
   "execution_count": 16,
   "id": "99e29a72-939b-4064-8da5-06f6f991c369",
   "metadata": {},
   "outputs": [
    {
     "name": "stdout",
     "output_type": "stream",
     "text": [
      "15\n",
      "25\n",
      "45\n"
     ]
    }
   ],
   "source": [
    "#FUNCTIONS\n",
    "\n",
    "def multiply(x):\n",
    "        return 5*x\n",
    "print (multiply(3))\n",
    "print (multiply(5))\n",
    "print (multiply(9))"
   ]
  },
  {
   "cell_type": "code",
   "execution_count": null,
   "id": "58889546-8d61-4480-be4e-2b0360ed54ce",
   "metadata": {},
   "outputs": [],
   "source": []
  },
  {
   "cell_type": "code",
   "execution_count": 18,
   "id": "8ea61187-9283-4364-a18f-90d585b2d98d",
   "metadata": {},
   "outputs": [
    {
     "name": "stdout",
     "output_type": "stream",
     "text": [
      "17\n",
      "29\n",
      "51\n"
     ]
    }
   ],
   "source": [
    "#FUNCTIONS 2 PARAMETERS\n",
    "\n",
    "def multiply(x,y):\n",
    "        return 5*x+y\n",
    "print (multiply(3,2))\n",
    "print (multiply(5,4))\n",
    "print (multiply(9,6))"
   ]
  },
  {
   "cell_type": "code",
   "execution_count": null,
   "id": "054f4151-1868-42b7-9837-5b246450454d",
   "metadata": {},
   "outputs": [],
   "source": []
  },
  {
   "cell_type": "code",
   "execution_count": null,
   "id": "0aa8c5dd-8bf2-408b-b63f-9e0393ec9b25",
   "metadata": {},
   "outputs": [],
   "source": [
    "\n"
   ]
  }
 ],
 "metadata": {
  "kernelspec": {
   "display_name": "Python 3 (ipykernel)",
   "language": "python",
   "name": "python3"
  },
  "language_info": {
   "codemirror_mode": {
    "name": "ipython",
    "version": 3
   },
   "file_extension": ".py",
   "mimetype": "text/x-python",
   "name": "python",
   "nbconvert_exporter": "python",
   "pygments_lexer": "ipython3",
   "version": "3.10.12"
  }
 },
 "nbformat": 4,
 "nbformat_minor": 5
}
